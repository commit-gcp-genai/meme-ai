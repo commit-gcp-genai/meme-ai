{
 "cells": [
  {
   "cell_type": "code",
   "execution_count": 8,
   "metadata": {},
   "outputs": [],
   "source": [
    "from langchain.llms import VertexAI\n",
    "from langchain.prompts import PromptTemplate\n",
    "from langchain.chains import LLMChain"
   ]
  },
  {
   "cell_type": "code",
   "execution_count": 9,
   "metadata": {},
   "outputs": [],
   "source": [
    "labels = [\"Smile\", \"Drinkware\", \"Tableware\", \"Beer\", \"Alcoholic beverage\", \"Drink\", \"Barware\", \"Table\", \"Fun\", \"Alcohol\"]"
   ]
  },
  {
   "cell_type": "code",
   "execution_count": 7,
   "metadata": {},
   "outputs": [
    {
     "name": "stdout",
     "output_type": "stream",
     "text": [
      "You are a meme caption generator. You will receive a list of labels and generate a funny caption that relates to the labels found in the image.\n",
      "                labels: ['Smile', 'Drinkware', 'Tableware', 'Beer', 'Alcoholic beverage', 'Drink', 'Barware', 'Table', 'Fun', 'Alcohol']\n",
      "                caption:\n"
     ]
    }
   ],
   "source": [
    "llm = VertexAI(temperature=1)\n",
    "\n",
    "prompt = PromptTemplate(\n",
    "    input_variables=[\"labels\"],\n",
    "    template=\"\"\"You are a meme caption generator. You will receive a list of labels and generate a funny caption that relates to the labels found in the image.\n",
    "                labels: {labels}\n",
    "                caption:\"\"\",\n",
    ")"
   ]
  },
  {
   "cell_type": "code",
   "execution_count": 10,
   "metadata": {},
   "outputs": [],
   "source": [
    "chain = LLMChain(llm=llm, prompt=prompt)"
   ]
  },
  {
   "cell_type": "code",
   "execution_count": 15,
   "metadata": {},
   "outputs": [
    {
     "data": {
      "text/plain": [
       "\"When you're having a bad day at work but remember you have beer at home\""
      ]
     },
     "execution_count": 15,
     "metadata": {},
     "output_type": "execute_result"
    }
   ],
   "source": [
    "chain.run(labels)"
   ]
  }
 ],
 "metadata": {
  "kernelspec": {
   "display_name": ".venv",
   "language": "python",
   "name": "python3"
  },
  "language_info": {
   "codemirror_mode": {
    "name": "ipython",
    "version": 3
   },
   "file_extension": ".py",
   "mimetype": "text/x-python",
   "name": "python",
   "nbconvert_exporter": "python",
   "pygments_lexer": "ipython3",
   "version": "3.10.8"
  },
  "orig_nbformat": 4
 },
 "nbformat": 4,
 "nbformat_minor": 2
}
